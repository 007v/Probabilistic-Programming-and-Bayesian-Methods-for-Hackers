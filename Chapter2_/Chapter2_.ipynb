{
 "metadata": {
  "name": "Chapter2_"
 },
 "nbformat": 3,
 "nbformat_minor": 0,
 "worksheets": [
  {
   "cells": [
    {
     "cell_type": "markdown",
     "metadata": {},
     "source": [
      "PyMC for Hackers\n",
      "======\n",
      "\n",
      "This chapter introduces more PyMC design patterns, examples + prob distributions to compliment the examples, MCMC (I'm not sure how to present this part yet. I might leave the more technical arguments for the appendix). This is still flexible\n",
      "______"
     ]
    },
    {
     "cell_type": "code",
     "collapsed": false,
     "input": [],
     "language": "python",
     "metadata": {},
     "outputs": []
    }
   ],
   "metadata": {}
  }
 ]
}