{
 "metadata": {
  "name": "Chapter3"
 },
 "nbformat": 3,
 "nbformat_minor": 0,
 "worksheets": [
  {
   "cells": [
    {
     "cell_type": "code",
     "collapsed": false,
     "input": [
      "import scipy.stats as stats\n",
      "figsize( 10, 3.5)"
     ],
     "language": "python",
     "metadata": {},
     "outputs": [],
     "prompt_number": 7
    },
    {
     "cell_type": "markdown",
     "metadata": {},
     "source": [
      "Chapter 3: The greatest theorem never told\n",
      "===============\n",
      "\n",
      "\n",
      ">  This relatively short chapter focuses on an idea that is always bouncing around our heads, but is rarely made explicit outside books devoted to statistics or Monte Carlo. The idea's simplicity can sometimes be so simple as to be confusing, so we will go through some examples and make it a transparent tool. \n",
      "\n",
      "______"
     ]
    },
    {
     "cell_type": "markdown",
     "metadata": {},
     "source": [
      "The second hammer: *The Law of Large Numbers*\n",
      "------"
     ]
    },
    {
     "cell_type": "markdown",
     "metadata": {},
     "source": [
      "Let $Z_i$ be samples from some probability distribution. According to *the law of large numbers*,  so long as $E[Z]$ is finite, the following holds,\n",
      "\n",
      "$$\\frac{1}{N} \\sum_{i=0}^N Z_i \\rightarrow E[ Z ],  \\;\\;\\; N \\rightarrow \\infty$$\n",
      "\n",
      "\n",
      "This may seem like a boring result, but it will be the most useful tool you use."
     ]
    },
    {
     "cell_type": "markdown",
     "metadata": {},
     "source": [
      "### Intution \n",
      "\n",
      "If the above Law is somewhat surprising, or not inutitive, it can be made more clear be considering  a small example. \n",
      "\n",
      "Consider a random variable $Z$ that can take on only two values, $c_1$ and $c_2$, with probabilities $P(Z=c_1) = 0.25$ and $P(Z = c_2 ) = 0.75 )$. Suppose we have a large number of samples of $Z$, calling a specific sample $Z_i$. We can approximate the expected value of $Z$ by averaging. By definition, $Z_i$ can only take on $c_1$ or $c_2$, hence we can partition the sum over these two values:\n",
      "\n",
      "$$\\frac{1}{N} \\sum_{i=0}^N Z_i =\\frac{1}{N} \\big(  \\sum_{ Z_i = c_1}c_1 + \\sum_{Z_i=c_2}c_2 \\big)$$\n",
      "\n",
      "$$ \\;\\;\\;\\;\\;\\;\\;\\;\\;\\;\\;\\;\\;\\;\\;\\;\\;\\;\\; = c_1 \\sum_{ Z_i = c_1}\\frac{1}{N} + c_2 \\sum_{ Z_i = c_2}\\frac{1}{N}$$\n",
      "\n",
      "$$ \\;\\;\\;\\;\\;\\;\\;\\;\\;\\;\\;\\;\\;\\;\\;\\;\\;\\;\\; = c_1 \\times \\text{ (approximate frequency of $c_1$) } + c_2 \\times \\text{ (approximate frequency of $c_2$) }$$\n",
      "\n",
      "$$ \\;\\;\\;\\;\\;\\;\\;\\;\\;\\;\\;\\;\\;\\;\\;\\;\\;\\;\\; \\approx c_1 \\times P(Z = c_1) + c_2 \\times P(Z = c_2 )$$\n",
      "\n",
      "$$ \\;\\;\\;\\;\\;\\;\\;\\;\\;\\;\\;\\;\\;\\;\\;\\;\\;\\;\\; = E[Z]$$\n",
      "\n",
      "Equality holds in the limit, but we can get very closer and closer by using more and more samples. This Law hold for (almost) any distribution: below is a diagram of the convergence in action for a Poisson random variable."
     ]
    },
    {
     "cell_type": "code",
     "collapsed": false,
     "input": [
      "sample_size = 100000\n",
      "expected_value = lambda_ = 4.5\n",
      "poi = stats.poisson\n",
      "samples = poi.rvs( lambda_, size = sample_size ) \n",
      "samples2 = poi.rvs( lambda_, size = sample_size ) # I should print two convergences, show it is stochastic\n",
      "partial_average = [ samples[:i].mean() for i in range(0,sample_size,100) ]\n",
      "plt.plot( range(0,sample_size,100), partial_average, label=\"partial average of samples\")\n",
      "plt.plot( range(0,sample_size,100), expected_value*np.ones_like( partial_average), \\\n",
      "    ls = \"--\", label = \"true expected value\" )\n",
      "plt.ylim( 4.35, 4.65) \n",
      "plt.fill_between( range(0,sample_size,100), partial_average, \\\n",
      "     y2=  expected_value*np.ones_like( partial_average), alpha = 0.3  )\n",
      "plt.xlabel( \"# of samples\")\n",
      "plt.ylabel( \"average of samples\" )\n"
     ],
     "language": "python",
     "metadata": {},
     "outputs": [
      {
       "output_type": "pyout",
       "prompt_number": 24,
       "text": [
        "<matplotlib.text.Text at 0x618f0d0>"
       ]
      },
      {
       "output_type": "display_data",
       "png": "[encoded data removed]"
      }
     ],
     "prompt_number": 24
    },
    {
     "cell_type": "markdown",
     "metadata": {},
     "source": [
      "Another very relevant question we can ask is *how quickly am I converging?* Let's plot something else. Let's do the above analysis thousands of times, and compute on average how far away are we from the true expected value for a specific $N$. But wait-- *compute on average*? This simply the law of large number again! For example, we are interested in, for a specific $N$:\n",
      "\n",
      "$$ E[\\;\\; \\big| \\frac{1}{N}\\sum_{i=0}^NZ_i  - 4.5 \\big| \\;\\;]$$\n",
      "\n",
      "As it is an expected value, this can be approximated using the law of large numbers! Instead of $Z_i$ being the random variable we average, we use \n",
      "\n",
      "$$ \\big| \\frac{1}{N}\\sum_{i=0}^NZ_i  - 4.5 \\big| $$"
     ]
    },
    {
     "cell_type": "code",
     "collapsed": false,
     "input": [
      "n_samples = 500\n",
      "expected_value_n = [] #make more clear\n",
      "x = range( 0, 50000, 2000 )\n",
      "for N in :\n",
      "    #for a specific N, we need to calulate the above expected value.\n",
      "    sum =0 \n",
      "    for i in range(n_samples):\n",
      "        samples = poi.rvs( lambda_, size = N )\n",
      "        sum += abs( samples.mean() - expected_value )\n",
      "    expected_value_n.append( sum/n_samples)\n",
      "\n",
      "plt.plot(x,  expected_value_n )"
     ],
     "language": "python",
     "metadata": {},
     "outputs": [
      {
       "output_type": "stream",
       "stream": "stdout",
       "text": [
        "0\n",
        "2000"
       ]
      },
      {
       "output_type": "stream",
       "stream": "stdout",
       "text": [
        "\n",
        "4000"
       ]
      },
      {
       "output_type": "stream",
       "stream": "stdout",
       "text": [
        "\n",
        "6000"
       ]
      },
      {
       "output_type": "stream",
       "stream": "stdout",
       "text": [
        "\n",
        "8000"
       ]
      },
      {
       "output_type": "stream",
       "stream": "stdout",
       "text": [
        "\n",
        "10000"
       ]
      },
      {
       "output_type": "stream",
       "stream": "stdout",
       "text": [
        "\n",
        "12000"
       ]
      },
      {
       "output_type": "stream",
       "stream": "stdout",
       "text": [
        "\n",
        "14000"
       ]
      },
      {
       "output_type": "stream",
       "stream": "stdout",
       "text": [
        "\n",
        "16000"
       ]
      },
      {
       "output_type": "stream",
       "stream": "stdout",
       "text": [
        "\n",
        "18000"
       ]
      },
      {
       "output_type": "stream",
       "stream": "stdout",
       "text": [
        "\n",
        "20000"
       ]
      },
      {
       "output_type": "stream",
       "stream": "stdout",
       "text": [
        "\n",
        "22000"
       ]
      },
      {
       "output_type": "stream",
       "stream": "stdout",
       "text": [
        "\n",
        "24000"
       ]
      },
      {
       "output_type": "stream",
       "stream": "stdout",
       "text": [
        "\n",
        "26000"
       ]
      },
      {
       "output_type": "stream",
       "stream": "stdout",
       "text": [
        "\n",
        "28000"
       ]
      },
      {
       "output_type": "stream",
       "stream": "stdout",
       "text": [
        "\n",
        "30000"
       ]
      },
      {
       "output_type": "stream",
       "stream": "stdout",
       "text": [
        "\n",
        "32000"
       ]
      },
      {
       "output_type": "stream",
       "stream": "stdout",
       "text": [
        "\n",
        "34000"
       ]
      },
      {
       "output_type": "stream",
       "stream": "stdout",
       "text": [
        "\n",
        "36000"
       ]
      },
      {
       "output_type": "stream",
       "stream": "stdout",
       "text": [
        "\n",
        "38000"
       ]
      },
      {
       "output_type": "stream",
       "stream": "stdout",
       "text": [
        "\n",
        "40000"
       ]
      },
      {
       "output_type": "stream",
       "stream": "stdout",
       "text": [
        "\n",
        "42000"
       ]
      },
      {
       "output_type": "stream",
       "stream": "stdout",
       "text": [
        "\n",
        "44000"
       ]
      },
      {
       "output_type": "stream",
       "stream": "stdout",
       "text": [
        "\n",
        "46000"
       ]
      },
      {
       "output_type": "stream",
       "stream": "stdout",
       "text": [
        "\n",
        "48000"
       ]
      },
      {
       "output_type": "stream",
       "stream": "stdout",
       "text": [
        "\n"
       ]
      },
      {
       "output_type": "pyout",
       "prompt_number": 29,
       "text": [
        "[<matplotlib.lines.Line2D at 0x699c610>]"
       ]
      },
      {
       "output_type": "display_data",
       "png": "[encoded data removed]"
      }
     ],
     "prompt_number": 29
    },
    {
     "cell_type": "code",
     "collapsed": false,
     "input": [],
     "language": "python",
     "metadata": {},
     "outputs": []
    }
   ],
   "metadata": {}
  }
 ]
}